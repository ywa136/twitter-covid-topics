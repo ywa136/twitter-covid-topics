{
 "cells": [
  {
   "cell_type": "code",
   "execution_count": 1,
   "metadata": {},
   "outputs": [],
   "source": [
    "from random import sample \n",
    "import pandas as pd\n",
    "from datetime import datetime, timedelta\n",
    "import numpy as np\n",
    "from numpy import linalg as LA\n",
    "import multiprocessing\n",
    "import networkx as nx\n",
    "from networkx.algorithms import bipartite\n",
    "from networkx.algorithms import matching\n",
    "import matplotlib.pyplot as plt\n",
    "import seaborn as sns\n",
    "from wordcloud import WordCloud\n",
    "from sklearn.cluster import AgglomerativeClustering\n",
    "from sklearn.metrics import silhouette_score\n",
    "import itertools\n",
    "import os\n",
    "import re\n",
    "import sys\n",
    "import pickle\n",
    "from mpl_toolkits.mplot3d import Axes3D\n",
    "from mpl_toolkits.mplot3d import axes3d\n",
    "\n",
    "np.set_printoptions(suppress=True)"
   ]
  },
  {
   "cell_type": "code",
   "execution_count": 2,
   "metadata": {},
   "outputs": [],
   "source": [
    "data_dir = \"../learned_topics/TLDA/\"\n",
    "method = \"exp_forg_smooth\"\n",
    "method_param = 0.75\n",
    "T = 50"
   ]
  },
  {
   "cell_type": "markdown",
   "metadata": {},
   "source": [
    "## Load word distributions"
   ]
  },
  {
   "cell_type": "code",
   "execution_count": 3,
   "metadata": {},
   "outputs": [],
   "source": [
    "# load results\n",
    "import pickle\n",
    "f = open(data_dir+\"WordsInTopicsAll\" + \"_\" + method + \"_\" + str(method_param) + \".pkl\", 'rb') \n",
    "WordsInTopicsAll = pickle.load(f)\n",
    "WordsFreq = [[WordsInTopicsAll[t][i][\"freq\"].values for i in range(T)] for t in range(len(WordsInTopicsAll))]\n",
    "f.close()"
   ]
  },
  {
   "cell_type": "code",
   "execution_count": 4,
   "metadata": {},
   "outputs": [
    {
     "data": {
      "text/plain": [
       "89"
      ]
     },
     "execution_count": 4,
     "metadata": {},
     "output_type": "execute_result"
    }
   ],
   "source": [
    "len(WordsInTopicsAll)"
   ]
  },
  {
   "cell_type": "markdown",
   "metadata": {},
   "source": [
    "## Compute cosine similarities for every pair of topics from adjacent time points"
   ]
  },
  {
   "cell_type": "code",
   "execution_count": 5,
   "metadata": {},
   "outputs": [],
   "source": [
    "def cosine(p,q):\n",
    "    return (np.dot(p,q))/(np.linalg.norm(p)*np.linalg.norm(q))\n",
    "\n",
    "\n",
    "def hellinger(p,q):\n",
    "    # hellinger similarity NOT DISTANCE\n",
    "    return 1 - np.linalg.norm(np.sqrt(p)-np.sqrt(q))/np.sqrt(2)\n",
    "\n",
    "\n",
    "def dist_mat_per_time(t,lag=1,T=T,metric=cosine,words_distn=WordsFreq,thres=0.2):\n",
    "    # lag = 1: dist between topics in t and t+1 \n",
    "    # lag = 0: dist between topics in t\n",
    "    dist_mat = np.empty((T,T))\n",
    "    for i in range(T):\n",
    "        for j in range(T):\n",
    "            p = list(words_distn[t][i])\n",
    "            q = list(words_distn[t+lag][j])\n",
    "            dist = metric(p,q)\n",
    "            dist_mat[i,j] = dist if dist >= thres else 0.0\n",
    "    \n",
    "    return dist_mat"
   ]
  },
  {
   "cell_type": "code",
   "execution_count": 18,
   "metadata": {},
   "outputs": [],
   "source": [
    "dist_mat_all = [dist_mat_per_time(t,metric=cosine) for t in range(len(WordsInTopicsAll)-1)]"
   ]
  },
  {
   "cell_type": "code",
   "execution_count": 19,
   "metadata": {},
   "outputs": [
    {
     "data": {
      "text/plain": [
       "88"
      ]
     },
     "execution_count": 19,
     "metadata": {},
     "output_type": "execute_result"
    }
   ],
   "source": [
    "len(dist_mat_all)"
   ]
  },
  {
   "cell_type": "code",
   "execution_count": 20,
   "metadata": {},
   "outputs": [
    {
     "data": {
      "text/plain": [
       "(50, 50)"
      ]
     },
     "execution_count": 20,
     "metadata": {},
     "output_type": "execute_result"
    }
   ],
   "source": [
    "dist_mat_all[0].shape"
   ]
  },
  {
   "cell_type": "markdown",
   "metadata": {},
   "source": [
    "## Compare with shortest path using Hellinger distance"
   ]
  },
  {
   "cell_type": "markdown",
   "metadata": {},
   "source": [
    "### Load and analyze the shortest path"
   ]
  },
  {
   "cell_type": "code",
   "execution_count": 6,
   "metadata": {},
   "outputs": [],
   "source": [
    "# load a Hellinger shortest path \n",
    "path_name = \"election\"\n",
    "path_sp = pd.read_csv(data_dir+\"path_\"+path_name+\"_time_topic_exp_forg_smooth_0.75_10_nn.txt\",header=None)"
   ]
  },
  {
   "cell_type": "code",
   "execution_count": 10,
   "metadata": {},
   "outputs": [],
   "source": [
    "path_sp = path_sp[[1,2]]\n",
    "path_sp.columns = [\"timeIdx\",\"topicIdx\"]"
   ]
  },
  {
   "cell_type": "code",
   "execution_count": 11,
   "metadata": {},
   "outputs": [
    {
     "data": {
      "text/html": [
       "<div>\n",
       "<style scoped>\n",
       "    .dataframe tbody tr th:only-of-type {\n",
       "        vertical-align: middle;\n",
       "    }\n",
       "\n",
       "    .dataframe tbody tr th {\n",
       "        vertical-align: top;\n",
       "    }\n",
       "\n",
       "    .dataframe thead th {\n",
       "        text-align: right;\n",
       "    }\n",
       "</style>\n",
       "<table border=\"1\" class=\"dataframe\">\n",
       "  <thead>\n",
       "    <tr style=\"text-align: right;\">\n",
       "      <th></th>\n",
       "      <th>timeIdx</th>\n",
       "      <th>topicIdx</th>\n",
       "    </tr>\n",
       "  </thead>\n",
       "  <tbody>\n",
       "    <tr>\n",
       "      <th>0</th>\n",
       "      <td>0</td>\n",
       "      <td>37</td>\n",
       "    </tr>\n",
       "    <tr>\n",
       "      <th>1</th>\n",
       "      <td>1</td>\n",
       "      <td>44</td>\n",
       "    </tr>\n",
       "    <tr>\n",
       "      <th>2</th>\n",
       "      <td>2</td>\n",
       "      <td>17</td>\n",
       "    </tr>\n",
       "    <tr>\n",
       "      <th>3</th>\n",
       "      <td>7</td>\n",
       "      <td>43</td>\n",
       "    </tr>\n",
       "    <tr>\n",
       "      <th>4</th>\n",
       "      <td>8</td>\n",
       "      <td>35</td>\n",
       "    </tr>\n",
       "  </tbody>\n",
       "</table>\n",
       "</div>"
      ],
      "text/plain": [
       "   timeIdx  topicIdx\n",
       "0        0        37\n",
       "1        1        44\n",
       "2        2        17\n",
       "3        7        43\n",
       "4        8        35"
      ]
     },
     "execution_count": 11,
     "metadata": {},
     "output_type": "execute_result"
    }
   ],
   "source": [
    "path_sp.head()"
   ]
  },
  {
   "cell_type": "code",
   "execution_count": 12,
   "metadata": {},
   "outputs": [
    {
     "data": {
      "text/plain": [
       "70"
      ]
     },
     "execution_count": 12,
     "metadata": {},
     "output_type": "execute_result"
    }
   ],
   "source": [
    "len(path_sp)"
   ]
  },
  {
   "cell_type": "code",
   "execution_count": 13,
   "metadata": {},
   "outputs": [],
   "source": [
    "path_null = pd.DataFrame({\"timeIdx\":np.arange(len(WordsInTopicsAll))})"
   ]
  },
  {
   "cell_type": "code",
   "execution_count": 14,
   "metadata": {},
   "outputs": [],
   "source": [
    "path_sp_full = path_null.merge(path_sp, how=\"left\", on=\"timeIdx\", suffixes=('_x', '_y'))"
   ]
  },
  {
   "cell_type": "code",
   "execution_count": 15,
   "metadata": {},
   "outputs": [
    {
     "data": {
      "text/plain": [
       "array([[ 0., 37.],\n",
       "       [ 1., 44.],\n",
       "       [ 2., 17.],\n",
       "       [ 3., nan],\n",
       "       [ 4., nan],\n",
       "       [ 5., nan],\n",
       "       [ 6., nan],\n",
       "       [ 7., 43.],\n",
       "       [ 8., 35.],\n",
       "       [ 9.,  6.],\n",
       "       [10.,  4.],\n",
       "       [11., nan],\n",
       "       [12., 41.],\n",
       "       [13., 46.],\n",
       "       [14., 46.],\n",
       "       [15., 16.],\n",
       "       [16., 13.],\n",
       "       [17., 43.],\n",
       "       [18., 25.],\n",
       "       [19.,  1.],\n",
       "       [20., 48.],\n",
       "       [21.,  6.],\n",
       "       [22., 20.],\n",
       "       [23., 28.],\n",
       "       [24., 44.],\n",
       "       [25., 40.],\n",
       "       [26., 23.],\n",
       "       [27., 19.],\n",
       "       [28.,  2.],\n",
       "       [29.,  6.],\n",
       "       [30., 34.],\n",
       "       [31., 48.],\n",
       "       [32., 49.],\n",
       "       [33., 14.],\n",
       "       [34., 20.],\n",
       "       [35., 47.],\n",
       "       [36., 17.],\n",
       "       [37.,  8.],\n",
       "       [38.,  1.],\n",
       "       [39., nan],\n",
       "       [40., nan],\n",
       "       [41., nan],\n",
       "       [42., 22.],\n",
       "       [43., 12.],\n",
       "       [44., 45.],\n",
       "       [45.,  7.],\n",
       "       [46.,  9.],\n",
       "       [47.,  8.],\n",
       "       [48., 10.],\n",
       "       [49., 28.],\n",
       "       [50., 29.],\n",
       "       [51., 11.],\n",
       "       [52.,  4.],\n",
       "       [53.,  4.],\n",
       "       [54.,  2.],\n",
       "       [55., 16.],\n",
       "       [56., 34.],\n",
       "       [57., 10.],\n",
       "       [58., 41.],\n",
       "       [59., 23.],\n",
       "       [60.,  4.],\n",
       "       [61., 44.],\n",
       "       [62., 31.],\n",
       "       [63., nan],\n",
       "       [64., nan],\n",
       "       [65., nan],\n",
       "       [66., nan],\n",
       "       [67., 33.],\n",
       "       [68., 39.],\n",
       "       [69., 33.],\n",
       "       [70., 17.],\n",
       "       [71., nan],\n",
       "       [72., 27.],\n",
       "       [73., 41.],\n",
       "       [74.,  5.],\n",
       "       [75., 29.],\n",
       "       [76., nan],\n",
       "       [77., nan],\n",
       "       [78.,  5.],\n",
       "       [79.,  0.],\n",
       "       [80., nan],\n",
       "       [81., 11.],\n",
       "       [82., nan],\n",
       "       [83., nan],\n",
       "       [84., nan],\n",
       "       [85.,  8.],\n",
       "       [86., 42.],\n",
       "       [87.,  0.],\n",
       "       [88.,  2.]])"
      ]
     },
     "execution_count": 15,
     "metadata": {},
     "output_type": "execute_result"
    }
   ],
   "source": [
    "path_sp_full.values"
   ]
  },
  {
   "cell_type": "code",
   "execution_count": 16,
   "metadata": {},
   "outputs": [],
   "source": [
    "def path_summary(path,start_day=0):\n",
    "    path_mat = path.values\n",
    "    skips = {}\n",
    "    skip_count = 0\n",
    "    for i in range(start_day+1,path_mat.shape[0]):\n",
    "        if np.isnan(path_mat[i,1]) and i!=path_mat.shape[0]-1:\n",
    "            skip_count += 1\n",
    "            next\n",
    "        elif not np.isnan(path_mat[i,1]) and i!=path_mat.shape[0]-1:\n",
    "            if np.isnan(path_mat[i-1,1]):\n",
    "                if str(skip_count) in skips:\n",
    "                    skips[str(skip_count)] = skips[str(skip_count)] + 1\n",
    "                else:\n",
    "                    skips[str(skip_count)] = 1\n",
    "            skip_count = 0\n",
    "        \n",
    "    return skips"
   ]
  },
  {
   "cell_type": "code",
   "execution_count": 17,
   "metadata": {},
   "outputs": [],
   "source": [
    "path_sp_summary = path_summary(path_sp_full,start_day=0)"
   ]
  },
  {
   "cell_type": "code",
   "execution_count": 18,
   "metadata": {},
   "outputs": [
    {
     "data": {
      "text/plain": [
       "{'4': 2, '1': 3, '3': 2, '2': 1}"
      ]
     },
     "execution_count": 18,
     "metadata": {},
     "output_type": "execute_result"
    }
   ],
   "source": [
    "path_sp_summary"
   ]
  },
  {
   "cell_type": "code",
   "execution_count": 19,
   "metadata": {},
   "outputs": [
    {
     "data": {
      "text/plain": [
       "Text(0, 0.5, 'Frequency')"
      ]
     },
     "execution_count": 19,
     "metadata": {},
     "output_type": "execute_result"
    },
    {
     "data": {
      "image/png": "[encoded data removed]",
      "text/plain": [
       "<Figure size 432x288 with 1 Axes>"
      ]
     },
     "metadata": {
      "needs_background": "light"
     },
     "output_type": "display_data"
    }
   ],
   "source": [
    "keys = path_sp_summary.keys()\n",
    "plt.bar(sorted(keys), [path_sp_summary[str(k)] for k in sorted(keys)])\n",
    "plt.xlabel('Number of Days Skipped')\n",
    "plt.ylabel('Frequency')\n",
    "# plt.show()\n",
    "# plt.savefig(\"../../twitter-covid-report/path_\"+path_name+\"_skips_summary.png\")"
   ]
  },
  {
   "cell_type": "markdown",
   "metadata": {},
   "source": [
    "### Compare best connections (the one with max. cosine similarity)"
   ]
  },
  {
   "cell_type": "code",
   "execution_count": 21,
   "metadata": {},
   "outputs": [],
   "source": [
    "def find_connections(dist_mat_all,path):\n",
    "    edges_all = {}\n",
    "    for t in range(len(path)-1):\n",
    "        timeIdx = path.iloc[t,:].values[0]\n",
    "        topicIdx = path.iloc[t,:].values[1]\n",
    "        if not np.isnan(topicIdx):\n",
    "            dist_mat_t = dist_mat_all[int(timeIdx)]\n",
    "            edges = [i for i,x in enumerate(dist_mat_t[int(topicIdx),:]) if x!=0]\n",
    "            edges_all[str(int(timeIdx))+'-'+str(int(topicIdx))] = edges if len(edges)>0 else None\n",
    "            \n",
    "    return edges_all"
   ]
  },
  {
   "cell_type": "code",
   "execution_count": 22,
   "metadata": {},
   "outputs": [
    {
     "data": {
      "text/plain": [
       "{'0-37': [9, 22, 44],\n",
       " '1-44': [17, 19, 23],\n",
       " '2-17': [4, 38, 41, 44, 47],\n",
       " '7-43': [8, 10, 18, 23, 24, 35, 45, 48],\n",
       " '8-35': [3, 6, 20, 33, 35, 36],\n",
       " '9-6': [4, 12, 33, 35],\n",
       " '10-4': [2, 3, 24, 26, 31, 40],\n",
       " '12-41': [14, 21, 23, 46],\n",
       " '13-46': [8, 20, 34, 39, 41, 46],\n",
       " '14-46': [13, 16, 18, 24],\n",
       " '15-16': [8, 12, 13, 29],\n",
       " '16-13': [25, 26, 32, 40, 43],\n",
       " '17-43': [0, 6, 17, 25, 31, 37],\n",
       " '18-25': [1, 3, 21, 31, 32, 33, 35, 36],\n",
       " '19-1': [10, 17, 33, 38, 48],\n",
       " '20-48': [6, 11, 17, 37, 46, 47],\n",
       " '21-6': [4, 10, 20, 23, 32, 33],\n",
       " '22-20': [3, 5, 19, 24, 25, 28],\n",
       " '23-28': [10, 27, 44, 49],\n",
       " '24-44': [12, 24, 40, 42, 45],\n",
       " '25-40': [2, 16, 17, 23, 49],\n",
       " '26-23': [13, 15, 19, 24],\n",
       " '27-19': [2, 7, 11, 22],\n",
       " '28-2': [6, 24, 29, 39, 40],\n",
       " '29-6': [13, 33, 34],\n",
       " '30-34': [10, 17, 26, 46, 48],\n",
       " '31-48': [28, 49],\n",
       " '32-49': [12, 14, 26],\n",
       " '33-14': [1, 13, 20, 43],\n",
       " '34-20': [25, 28, 30, 45, 47, 48],\n",
       " '35-47': [13, 17, 19, 42, 47],\n",
       " '36-17': [8, 17, 47],\n",
       " '37-8': [1, 9, 38, 41],\n",
       " '38-1': [0, 16, 44],\n",
       " '42-22': [6, 12, 31],\n",
       " '43-12': [12, 40, 45],\n",
       " '44-45': [7, 18, 38, 44],\n",
       " '45-7': [9, 40, 48],\n",
       " '46-9': [8, 36, 38],\n",
       " '47-8': [0, 5, 10, 31],\n",
       " '48-10': [20, 28, 33, 35, 44],\n",
       " '49-28': [5, 28, 29, 41],\n",
       " '50-29': [5, 11, 19],\n",
       " '51-11': [4, 13, 14, 15, 45],\n",
       " '52-4': [4, 10, 16, 28, 40],\n",
       " '53-4': [2, 24, 29, 43, 49],\n",
       " '54-2': [10, 11, 16, 23, 30],\n",
       " '55-16': [3, 11, 33, 34, 43],\n",
       " '56-34': [10, 27, 32],\n",
       " '57-10': [38, 40, 41],\n",
       " '58-41': [16, 19, 23],\n",
       " '59-23': [4, 7, 46],\n",
       " '60-4': [23, 36, 44],\n",
       " '61-44': [31, 49],\n",
       " '62-31': [1, 16, 26],\n",
       " '67-33': [16, 39, 43],\n",
       " '68-39': [13, 27, 33, 49],\n",
       " '69-33': [7, 10, 13, 17],\n",
       " '70-17': [7, 9, 39],\n",
       " '72-27': [9, 33, 41],\n",
       " '73-41': [5, 12, 23, 29, 37],\n",
       " '74-5': [5, 18, 29],\n",
       " '75-29': [2, 17, 25, 28, 33, 41],\n",
       " '78-5': [0, 1, 7, 9, 30, 34],\n",
       " '79-0': [7, 17, 22, 33, 34, 40, 42, 43],\n",
       " '81-11': [2, 14, 31, 33, 34, 36, 37, 39, 44],\n",
       " '85-8': [4, 22, 24, 38, 39, 41, 42, 47],\n",
       " '86-42': [0, 17, 33, 36, 47],\n",
       " '87-0': [2, 15, 17, 24, 30, 33, 48]}"
      ]
     },
     "execution_count": 22,
     "metadata": {},
     "output_type": "execute_result"
    }
   ],
   "source": [
    "find_connections(dist_mat_all=distmat_all,path=path_sp_full)"
   ]
  },
  {
   "cell_type": "code",
   "execution_count": 23,
   "metadata": {},
   "outputs": [],
   "source": [
    "def find_best_connections(start_edge=37,dist_mat_all=dist_mat_all):\n",
    "    edges_all = []\n",
    "    edge = start_edge\n",
    "    edges_all.append([0, edge])\n",
    "    for t in range(len(WordsInTopicsAll)-1):\n",
    "        dist_mat_t = dist_mat_all[t]\n",
    "        edge = np.argmax(dist_mat_t[edge,:]) if np.max(dist_mat_t[edge,:])>0 else 0.0\n",
    "        edges_all.append([t+1, edge if edge>0 else None])\n",
    "        \n",
    "    edges_all_df = pd.DataFrame(edges_all)\n",
    "    edges_all_df.columns = [\"timeIdx\",\"topicIdx\"]\n",
    "            \n",
    "    return edges_all_df"
   ]
  },
  {
   "cell_type": "code",
   "execution_count": 24,
   "metadata": {},
   "outputs": [
    {
     "data": {
      "text/html": [
       "<div>\n",
       "<style scoped>\n",
       "    .dataframe tbody tr th:only-of-type {\n",
       "        vertical-align: middle;\n",
       "    }\n",
       "\n",
       "    .dataframe tbody tr th {\n",
       "        vertical-align: top;\n",
       "    }\n",
       "\n",
       "    .dataframe thead th {\n",
       "        text-align: right;\n",
       "    }\n",
       "</style>\n",
       "<table border=\"1\" class=\"dataframe\">\n",
       "  <thead>\n",
       "    <tr style=\"text-align: right;\">\n",
       "      <th></th>\n",
       "      <th>timeIdx</th>\n",
       "      <th>topicIdx</th>\n",
       "    </tr>\n",
       "  </thead>\n",
       "  <tbody>\n",
       "    <tr>\n",
       "      <th>0</th>\n",
       "      <td>0</td>\n",
       "      <td>37.0</td>\n",
       "    </tr>\n",
       "    <tr>\n",
       "      <th>1</th>\n",
       "      <td>1</td>\n",
       "      <td>44.0</td>\n",
       "    </tr>\n",
       "    <tr>\n",
       "      <th>2</th>\n",
       "      <td>2</td>\n",
       "      <td>17.0</td>\n",
       "    </tr>\n",
       "    <tr>\n",
       "      <th>3</th>\n",
       "      <td>3</td>\n",
       "      <td>47.0</td>\n",
       "    </tr>\n",
       "    <tr>\n",
       "      <th>4</th>\n",
       "      <td>4</td>\n",
       "      <td>33.0</td>\n",
       "    </tr>\n",
       "    <tr>\n",
       "      <th>...</th>\n",
       "      <td>...</td>\n",
       "      <td>...</td>\n",
       "    </tr>\n",
       "    <tr>\n",
       "      <th>84</th>\n",
       "      <td>84</td>\n",
       "      <td>26.0</td>\n",
       "    </tr>\n",
       "    <tr>\n",
       "      <th>85</th>\n",
       "      <td>85</td>\n",
       "      <td>8.0</td>\n",
       "    </tr>\n",
       "    <tr>\n",
       "      <th>86</th>\n",
       "      <td>86</td>\n",
       "      <td>42.0</td>\n",
       "    </tr>\n",
       "    <tr>\n",
       "      <th>87</th>\n",
       "      <td>87</td>\n",
       "      <td>NaN</td>\n",
       "    </tr>\n",
       "    <tr>\n",
       "      <th>88</th>\n",
       "      <td>88</td>\n",
       "      <td>2.0</td>\n",
       "    </tr>\n",
       "  </tbody>\n",
       "</table>\n",
       "<p>89 rows × 2 columns</p>\n",
       "</div>"
      ],
      "text/plain": [
       "    timeIdx  topicIdx\n",
       "0         0      37.0\n",
       "1         1      44.0\n",
       "2         2      17.0\n",
       "3         3      47.0\n",
       "4         4      33.0\n",
       "..      ...       ...\n",
       "84       84      26.0\n",
       "85       85       8.0\n",
       "86       86      42.0\n",
       "87       87       NaN\n",
       "88       88       2.0\n",
       "\n",
       "[89 rows x 2 columns]"
      ]
     },
     "execution_count": 24,
     "metadata": {},
     "output_type": "execute_result"
    }
   ],
   "source": [
    "path_topicflow = find_best_connections()\n",
    "path_topicflow"
   ]
  },
  {
   "cell_type": "code",
   "execution_count": 25,
   "metadata": {},
   "outputs": [],
   "source": [
    "path_compare =  path_sp_full.merge(path_topicflow, how=\"left\", on=\"timeIdx\", suffixes=('_x', '_y'))"
   ]
  },
  {
   "cell_type": "code",
   "execution_count": 26,
   "metadata": {},
   "outputs": [
    {
     "data": {
      "text/plain": [
       "array([[ 0., 37., 37.],\n",
       "       [ 1., 44., 44.],\n",
       "       [ 2., 17., 17.],\n",
       "       [ 3., nan, 47.],\n",
       "       [ 4., nan, 33.],\n",
       "       [ 5., nan, 48.],\n",
       "       [ 6., nan, 21.],\n",
       "       [ 7., 43., 43.],\n",
       "       [ 8., 35., 35.],\n",
       "       [ 9.,  6.,  6.],\n",
       "       [10.,  4.,  4.],\n",
       "       [11., nan,  3.],\n",
       "       [12., 41.,  9.],\n",
       "       [13., 46., 46.],\n",
       "       [14., 46., 46.],\n",
       "       [15., 16., 16.],\n",
       "       [16., 13., 13.],\n",
       "       [17., 43., 43.],\n",
       "       [18., 25., 25.],\n",
       "       [19.,  1.,  1.],\n",
       "       [20., 48., 48.],\n",
       "       [21.,  6.,  6.],\n",
       "       [22., 20., 20.],\n",
       "       [23., 28., 28.],\n",
       "       [24., 44., 44.],\n",
       "       [25., 40., 40.],\n",
       "       [26., 23., 23.],\n",
       "       [27., 19., 19.],\n",
       "       [28.,  2.,  2.],\n",
       "       [29.,  6.,  6.],\n",
       "       [30., 34., 34.],\n",
       "       [31., 48., 48.],\n",
       "       [32., 49., 49.],\n",
       "       [33., 14., 14.],\n",
       "       [34., 20., 20.],\n",
       "       [35., 47., 47.],\n",
       "       [36., 17., 17.],\n",
       "       [37.,  8.,  8.],\n",
       "       [38.,  1.,  1.],\n",
       "       [39., nan, 44.],\n",
       "       [40., nan, 27.],\n",
       "       [41., nan, 26.],\n",
       "       [42., 22., 26.],\n",
       "       [43., 12., 41.],\n",
       "       [44., 45., 40.],\n",
       "       [45.,  7., 44.],\n",
       "       [46.,  9., 40.],\n",
       "       [47.,  8., 36.],\n",
       "       [48., 10., nan],\n",
       "       [49., 28., 44.],\n",
       "       [50., 29., 28.],\n",
       "       [51., 11.,  5.],\n",
       "       [52.,  4., 14.],\n",
       "       [53.,  4., 28.],\n",
       "       [54.,  2., 49.],\n",
       "       [55., 16., 30.],\n",
       "       [56., 34., 11.],\n",
       "       [57., 10., 27.],\n",
       "       [58., 41., 38.],\n",
       "       [59., 23., 19.],\n",
       "       [60.,  4., 46.],\n",
       "       [61., 44., 36.],\n",
       "       [62., 31., 49.],\n",
       "       [63., nan,  1.],\n",
       "       [64., nan, nan],\n",
       "       [65., nan, 11.],\n",
       "       [66., nan,  3.],\n",
       "       [67., 33., 33.],\n",
       "       [68., 39., 39.],\n",
       "       [69., 33., 33.],\n",
       "       [70., 17., 17.],\n",
       "       [71., nan, 39.],\n",
       "       [72., 27., 38.],\n",
       "       [73., 41., 33.],\n",
       "       [74.,  5., 37.],\n",
       "       [75., 29., 29.],\n",
       "       [76., nan,  2.],\n",
       "       [77., nan, 42.],\n",
       "       [78.,  5., 21.],\n",
       "       [79.,  0.,  9.],\n",
       "       [80., nan, 43.],\n",
       "       [81., 11., 11.],\n",
       "       [82., nan, 36.],\n",
       "       [83., nan, 43.],\n",
       "       [84., nan, 26.],\n",
       "       [85.,  8.,  8.],\n",
       "       [86., 42., 42.],\n",
       "       [87.,  0., nan],\n",
       "       [88.,  2.,  2.]])"
      ]
     },
     "execution_count": 26,
     "metadata": {},
     "output_type": "execute_result"
    }
   ],
   "source": [
    "path_compare.values"
   ]
  }
 ],
 "metadata": {
  "kernelspec": {
   "display_name": "Python 3",
   "language": "python",
   "name": "python3"
  },
  "language_info": {
   "codemirror_mode": {
    "name": "ipython",
    "version": 3
   },
   "file_extension": ".py",
   "mimetype": "text/x-python",
   "name": "python",
   "nbconvert_exporter": "python",
   "pygments_lexer": "ipython3",
   "version": "3.8.3"
  }
 },
 "nbformat": 4,
 "nbformat_minor": 4
}
